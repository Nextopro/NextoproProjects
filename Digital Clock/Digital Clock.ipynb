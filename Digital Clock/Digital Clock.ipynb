{
 "cells": [
  {
   "cell_type": "code",
   "execution_count": 1,
   "id": "e61fe6e5",
   "metadata": {},
   "outputs": [],
   "source": [
    "import sys\n",
    "from  tkinter import *\n",
    "import time \n",
    "\n",
    "def times():\n",
    "    current_time=time.strftime(\"%H:%M:%S\") \n",
    "    clock.config(text=current_time)\n",
    "    clock.after(200,times)\n",
    "\n",
    "\n",
    "root=Tk()\n",
    "root.geometry(\"500x250\")\n",
    "clock=Label(root,font=(\"times\",50,\"bold\"),bg=\"white\")\n",
    "clock.grid(row=2,column=2,pady=25,padx=100)\n",
    "times()\n",
    "\n",
    "digi=Label(root,text=\"Digital clock\",font=\"times 24 bold\")\n",
    "digi.grid(row=0,column=2)\n",
    "\n",
    "nota=Label(root,text=\"hours   minutes   seconds   \",font=\"times 15 bold\")\n",
    "nota.grid(row=3,column=2)\n",
    "\n",
    "root.mainloop()"
   ]
  },
  {
   "cell_type": "code",
   "execution_count": null,
   "id": "63b0bdac",
   "metadata": {},
   "outputs": [],
   "source": []
  }
 ],
 "metadata": {
  "kernelspec": {
   "display_name": "Python 3 (ipykernel)",
   "language": "python",
   "name": "python3"
  },
  "language_info": {
   "codemirror_mode": {
    "name": "ipython",
    "version": 3
   },
   "file_extension": ".py",
   "mimetype": "text/x-python",
   "name": "python",
   "nbconvert_exporter": "python",
   "pygments_lexer": "ipython3",
   "version": "3.9.7"
  }
 },
 "nbformat": 4,
 "nbformat_minor": 5
}
